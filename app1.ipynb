{
 "cells": [
  {
   "cell_type": "code",
   "execution_count": null,
   "id": "4301c72c-1c41-4a32-8603-45edc9337957",
   "metadata": {},
   "outputs": [],
   "source": [
    "import streamlit as st\n",
    "import pandas as pd\n",
    "import pickle\n",
    "\n",
    "# Load the trained model\n",
    "model = pickle.load(open('model.pkl', 'rb'))\n",
    "\n",
    "st.set_page_config(page_title=\"CLV Predictor\", layout=\"centered\")\n",
    "st.title(\"Customer Lifetime Value (CLV) Prediction\")\n",
    "\n",
    "st.markdown(\"### Enter the customer segmentation and behavior data below:\")\n",
    "\n",
    "# Input fields matching the trained model features\n",
    "customer_id = st.number_input(\"Customer ID\", min_value=0)\n",
    "recency = st.number_input(\"Recency (in days)\", min_value=0)\n",
    "recency_cluster = st.number_input(\"Recency Cluster (e.g., 0–3)\", min_value=0)\n",
    "frequency = st.number_input(\"Frequency (number of purchases)\", min_value=0)\n",
    "frequency_cluster = st.number_input(\"Frequency Cluster (e.g., 0–3)\", min_value=0)\n",
    "revenue = st.number_input(\"Revenue (total spend)\", min_value=0.0)\n",
    "revenue_cluster = st.number_input(\"Revenue Cluster (e.g., 0–3)\", min_value=0)\n",
    "overall_score = st.number_input(\"Overall Score (e.g., 0–9)\", min_value=0)\n",
    "\n",
    "# Segment flags as binary inputs\n",
    "segment_high = st.selectbox(\"Is the customer High-Value?\", [\"No\", \"Yes\"])\n",
    "segment_low = st.selectbox(\"Is the customer Low-Value?\", [\"No\", \"Yes\"])\n",
    "segment_mid = st.selectbox(\"Is the customer Mid-Value?\", [\"No\", \"Yes\"])\n",
    "\n",
    "segment_high_val = 1 if segment_high == \"Yes\" else 0\n",
    "segment_low_val = 1 if segment_low == \"Yes\" else 0\n",
    "segment_mid_val = 1 if segment_mid == \"Yes\" else 0\n",
    "\n",
    "# Create DataFrame with correct structure\n",
    "input_data = pd.DataFrame([[\n",
    "    customer_id, recency, recency_cluster, frequency, frequency_cluster,\n",
    "    revenue, revenue_cluster, overall_score,\n",
    "    segment_high_val, segment_low_val, segment_mid_val\n",
    "]], columns=[\n",
    "    'Customer ID', 'Recency', 'RecencyCluster', 'Frequency', 'FrequencyCluster',\n",
    "    'Revenue', 'RevenueCluster', 'OverallScore',\n",
    "    'Segment_High-Value', 'Segment_Low-Value', 'Segment_Mid-Value'\n",
    "])\n",
    "\n",
    "# Predict CLV\n",
    "if st.button(\"Predict CLV\"):\n",
    "    prediction = model.predict(input_data)[0]\n",
    "    st.success(f\"Predicted Customer Lifetime Value (CLV): ₹{round(prediction, 2)}\")\n",
    "\n",
    "\n",
    "\n",
    "\n"
   ]
  },
  {
   "cell_type": "code",
   "execution_count": null,
   "id": "a9fc05be-b125-4f90-bc2a-afccffbf336f",
   "metadata": {},
   "outputs": [],
   "source": []
  }
 ],
 "metadata": {
  "kernelspec": {
   "display_name": "Python 3 (ipykernel)",
   "language": "python",
   "name": "python3"
  },
  "language_info": {
   "codemirror_mode": {
    "name": "ipython",
    "version": 3
   },
   "file_extension": ".py",
   "mimetype": "text/x-python",
   "name": "python",
   "nbconvert_exporter": "python",
   "pygments_lexer": "ipython3",
   "version": "3.12.4"
  }
 },
 "nbformat": 4,
 "nbformat_minor": 5
}
